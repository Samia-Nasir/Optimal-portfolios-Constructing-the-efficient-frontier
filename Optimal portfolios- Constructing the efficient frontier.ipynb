{
 "cells": [
  {
   "cell_type": "markdown",
   "metadata": {},
   "source": [
    "# Optimal portfolios: Constructing the Efficient Frontier"
   ]
  },
  {
   "cell_type": "markdown",
   "metadata": {},
   "source": [
    "Optimization methods form a methodological base for portfolio theory, one of these important methods is the efficient frontier which became important in the modern portfolio theory, it has been the basis for the modern portfolio theory because it’s describing one of the most important areas in finance and investment analysis which is the relationship between the expected rate of return and the risk of asset. In this paper, we will examine this relationship and see how that can help the investors to make better investment decisions."
   ]
  },
  {
   "cell_type": "markdown",
   "metadata": {},
   "source": [
    "Building an efficient frontier for more than two stocks, (in our case we have five stocks) consists of following steps:\n",
    "1.\tSelect stocks and download the historical values of the prices of each of the stocks over a period of time\n",
    "2.\tUsing the price data to determine the return on the selected stocks.\n",
    "3.\tGathering the average return data for the selected stocks in so called the mean vector.\n",
    "4.\tBuild a weighted covariance matrix and an inverse matrix.\n",
    "5.\tFind the portfolio weight set with the lowest standard deviation.\n",
    "6.\tConstruct the portfolio with the highest sharp ratio.\n",
    "7.\tGraphing the efficient frontier.\n"
   ]
  },
  {
   "cell_type": "markdown",
   "metadata": {},
   "source": [
    "# Step 1"
   ]
  },
  {
   "cell_type": "markdown",
   "metadata": {},
   "source": [
    "In the first step we will select the stocks and download the historical values of the prices of each of the stocks over a period of time. The stocks that we have selected are following: \n",
    "•\tBank of America (BAC)\n",
    "\n",
    "\n",
    "•\teBay (EBAY)\n",
    "\n",
    "\n",
    "•\tNetflix (NFLX)\n",
    "\n",
    "\n",
    "•\tNike (NKE) \n",
    "\n",
    "\n",
    "•\tAmerican international group (AIG)\n",
    "\n",
    "\n",
    "After selecting our stocks from the capital market, we download the historical values of the prices from yahoo finance over a period of time that covers ten years, from 1st December 2008 - 1st December 2018, we choose the frequency “weekly” because we are interested in determining the weekly returns not the daily returns.\n",
    "\n"
   ]
  },
  {
   "cell_type": "code",
   "execution_count": 2,
   "metadata": {},
   "outputs": [],
   "source": [
    "import numpy as np\n",
    "import numpy.random as npr\n",
    "import math\n",
    "import pandas as pd\n",
    "import csv"
   ]
  },
  {
   "cell_type": "code",
   "execution_count": 2,
   "metadata": {},
   "outputs": [
    {
     "data": {
      "text/html": [
       "<div>\n",
       "<style scoped>\n",
       "    .dataframe tbody tr th:only-of-type {\n",
       "        vertical-align: middle;\n",
       "    }\n",
       "\n",
       "    .dataframe tbody tr th {\n",
       "        vertical-align: top;\n",
       "    }\n",
       "\n",
       "    .dataframe thead th {\n",
       "        text-align: right;\n",
       "    }\n",
       "</style>\n",
       "<table border=\"1\" class=\"dataframe\">\n",
       "  <thead>\n",
       "    <tr style=\"text-align: right;\">\n",
       "      <th></th>\n",
       "      <th>Bank of America</th>\n",
       "      <th>eBay</th>\n",
       "      <th>Netflix</th>\n",
       "      <th>Nike</th>\n",
       "      <th>American International Group</th>\n",
       "    </tr>\n",
       "  </thead>\n",
       "  <tbody>\n",
       "    <tr>\n",
       "      <td>0</td>\n",
       "      <td>13.704663</td>\n",
       "      <td>5.875421</td>\n",
       "      <td>3.610000</td>\n",
       "      <td>9.009115</td>\n",
       "      <td>29.484703</td>\n",
       "    </tr>\n",
       "    <tr>\n",
       "      <td>1</td>\n",
       "      <td>13.731681</td>\n",
       "      <td>6.005892</td>\n",
       "      <td>4.072857</td>\n",
       "      <td>8.502055</td>\n",
       "      <td>27.356949</td>\n",
       "    </tr>\n",
       "    <tr>\n",
       "      <td>2</td>\n",
       "      <td>12.692377</td>\n",
       "      <td>6.081650</td>\n",
       "      <td>3.955714</td>\n",
       "      <td>8.827532</td>\n",
       "      <td>24.317286</td>\n",
       "    </tr>\n",
       "    <tr>\n",
       "      <td>3</td>\n",
       "      <td>12.287694</td>\n",
       "      <td>5.723906</td>\n",
       "      <td>4.065714</td>\n",
       "      <td>8.569217</td>\n",
       "      <td>23.861338</td>\n",
       "    </tr>\n",
       "    <tr>\n",
       "      <td>4</td>\n",
       "      <td>13.179837</td>\n",
       "      <td>6.170033</td>\n",
       "      <td>4.267143</td>\n",
       "      <td>9.137513</td>\n",
       "      <td>25.685127</td>\n",
       "    </tr>\n",
       "  </tbody>\n",
       "</table>\n",
       "</div>"
      ],
      "text/plain": [
       "   Bank of America      eBay   Netflix      Nike  American International Group\n",
       "0        13.704663  5.875421  3.610000  9.009115                     29.484703\n",
       "1        13.731681  6.005892  4.072857  8.502055                     27.356949\n",
       "2        12.692377  6.081650  3.955714  8.827532                     24.317286\n",
       "3        12.287694  5.723906  4.065714  8.569217                     23.861338\n",
       "4        13.179837  6.170033  4.267143  9.137513                     25.685127"
      ]
     },
     "execution_count": 2,
     "metadata": {},
     "output_type": "execute_result"
    }
   ],
   "source": [
    "data = pd.read_csv('Prices.csv') \n",
    "data.head()"
   ]
  },
  {
   "cell_type": "code",
   "execution_count": 4,
   "metadata": {},
   "outputs": [
    {
     "data": {
      "text/plain": [
       "<matplotlib.axes._subplots.AxesSubplot at 0x12bda939cc8>"
      ]
     },
     "execution_count": 4,
     "metadata": {},
     "output_type": "execute_result"
    },
    {
     "data": {
      "image/png": "[encoded data removed]",
      "text/plain": [
       "<Figure size 432x288 with 1 Axes>"
      ]
     },
     "metadata": {
      "needs_background": "light"
     },
     "output_type": "display_data"
    }
   ],
   "source": [
    "#plot the data\n",
    "data.plot()"
   ]
  },
  {
   "cell_type": "markdown",
   "metadata": {},
   "source": [
    "# Step 2"
   ]
  },
  {
   "cell_type": "markdown",
   "metadata": {},
   "source": [
    "In the next step we will use the data of prices to determine the returns of the selected stocks\n",
    "In our case, we are interested in finding the weekly returns, to determine the weekly returns for each of the selected stocks, we take the (ln) of the division for the second day of the historical price on the first day, or by using the method for calculating the stock return:\n",
    "\n",
    "$ r=\\frac{p(1)-p(0)}{(p(0)} $\n",
    "\n",
    "Where p(0) is the initial price of the stock and p(1)  is the final price of the stock.\n"
   ]
  },
  {
   "cell_type": "code",
   "execution_count": 5,
   "metadata": {},
   "outputs": [],
   "source": [
    "# function to calculate daily simple returns\n",
    "def getReturns(org):\n",
    "    return (org- org.shift(1))/org.shift(1)"
   ]
  },
  {
   "cell_type": "code",
   "execution_count": 6,
   "metadata": {},
   "outputs": [],
   "source": [
    "# function call\n",
    "data['BAC-Return'] = getReturns(data['Bank of America'])\n",
    "data['EBAY-Return'] = getReturns(data['eBay'])\n",
    "data['NFLX-Return'] = getReturns(data['Netflix'])\n",
    "data['NKE-Return'] = getReturns(data['Nike'])\n",
    "data['AIG-Return'] = getReturns(data['American International Group'])"
   ]
  },
  {
   "cell_type": "code",
   "execution_count": 7,
   "metadata": {},
   "outputs": [
    {
     "data": {
      "text/html": [
       "<div>\n",
       "<style scoped>\n",
       "    .dataframe tbody tr th:only-of-type {\n",
       "        vertical-align: middle;\n",
       "    }\n",
       "\n",
       "    .dataframe tbody tr th {\n",
       "        vertical-align: top;\n",
       "    }\n",
       "\n",
       "    .dataframe thead th {\n",
       "        text-align: right;\n",
       "    }\n",
       "</style>\n",
       "<table border=\"1\" class=\"dataframe\">\n",
       "  <thead>\n",
       "    <tr style=\"text-align: right;\">\n",
       "      <th></th>\n",
       "      <th>Bank of America</th>\n",
       "      <th>eBay</th>\n",
       "      <th>Netflix</th>\n",
       "      <th>Nike</th>\n",
       "      <th>American International Group</th>\n",
       "      <th>BAC-Return</th>\n",
       "      <th>EBAY-Return</th>\n",
       "      <th>NFLX-Return</th>\n",
       "      <th>NKE-Return</th>\n",
       "      <th>AIG-Return</th>\n",
       "    </tr>\n",
       "  </thead>\n",
       "  <tbody>\n",
       "    <tr>\n",
       "      <td>1</td>\n",
       "      <td>13.731681</td>\n",
       "      <td>6.005892</td>\n",
       "      <td>4.072857</td>\n",
       "      <td>8.502055</td>\n",
       "      <td>27.356949</td>\n",
       "      <td>0.001971</td>\n",
       "      <td>0.022206</td>\n",
       "      <td>0.128215</td>\n",
       "      <td>-0.056283</td>\n",
       "      <td>-0.072165</td>\n",
       "    </tr>\n",
       "    <tr>\n",
       "      <td>2</td>\n",
       "      <td>12.692377</td>\n",
       "      <td>6.081650</td>\n",
       "      <td>3.955714</td>\n",
       "      <td>8.827532</td>\n",
       "      <td>24.317286</td>\n",
       "      <td>-0.075687</td>\n",
       "      <td>0.012614</td>\n",
       "      <td>-0.028762</td>\n",
       "      <td>0.038282</td>\n",
       "      <td>-0.111111</td>\n",
       "    </tr>\n",
       "    <tr>\n",
       "      <td>3</td>\n",
       "      <td>12.287694</td>\n",
       "      <td>5.723906</td>\n",
       "      <td>4.065714</td>\n",
       "      <td>8.569217</td>\n",
       "      <td>23.861338</td>\n",
       "      <td>-0.031884</td>\n",
       "      <td>-0.058824</td>\n",
       "      <td>0.027808</td>\n",
       "      <td>-0.029262</td>\n",
       "      <td>-0.018750</td>\n",
       "    </tr>\n",
       "    <tr>\n",
       "      <td>4</td>\n",
       "      <td>13.179837</td>\n",
       "      <td>6.170033</td>\n",
       "      <td>4.267143</td>\n",
       "      <td>9.137513</td>\n",
       "      <td>25.685127</td>\n",
       "      <td>0.072605</td>\n",
       "      <td>0.077941</td>\n",
       "      <td>0.049543</td>\n",
       "      <td>0.066318</td>\n",
       "      <td>0.076433</td>\n",
       "    </tr>\n",
       "    <tr>\n",
       "      <td>5</td>\n",
       "      <td>11.947389</td>\n",
       "      <td>5.972222</td>\n",
       "      <td>4.608572</td>\n",
       "      <td>8.543384</td>\n",
       "      <td>24.621256</td>\n",
       "      <td>-0.093510</td>\n",
       "      <td>-0.032060</td>\n",
       "      <td>0.080013</td>\n",
       "      <td>-0.065021</td>\n",
       "      <td>-0.041420</td>\n",
       "    </tr>\n",
       "  </tbody>\n",
       "</table>\n",
       "</div>"
      ],
      "text/plain": [
       "   Bank of America      eBay   Netflix      Nike  \\\n",
       "1        13.731681  6.005892  4.072857  8.502055   \n",
       "2        12.692377  6.081650  3.955714  8.827532   \n",
       "3        12.287694  5.723906  4.065714  8.569217   \n",
       "4        13.179837  6.170033  4.267143  9.137513   \n",
       "5        11.947389  5.972222  4.608572  8.543384   \n",
       "\n",
       "   American International Group  BAC-Return  EBAY-Return  NFLX-Return  \\\n",
       "1                     27.356949    0.001971     0.022206     0.128215   \n",
       "2                     24.317286   -0.075687     0.012614    -0.028762   \n",
       "3                     23.861338   -0.031884    -0.058824     0.027808   \n",
       "4                     25.685127    0.072605     0.077941     0.049543   \n",
       "5                     24.621256   -0.093510    -0.032060     0.080013   \n",
       "\n",
       "   NKE-Return  AIG-Return  \n",
       "1   -0.056283   -0.072165  \n",
       "2    0.038282   -0.111111  \n",
       "3   -0.029262   -0.018750  \n",
       "4    0.066318    0.076433  \n",
       "5   -0.065021   -0.041420  "
      ]
     },
     "execution_count": 7,
     "metadata": {},
     "output_type": "execute_result"
    }
   ],
   "source": [
    "data.dropna(inplace=True)\n",
    "data.head()"
   ]
  },
  {
   "cell_type": "markdown",
   "metadata": {},
   "source": [
    "# Step 3"
   ]
  },
  {
   "cell_type": "markdown",
   "metadata": {},
   "source": [
    "Gathering the average return data for the selected stocks in so called the mean vector.\n",
    "After determining the weekly returns for each of the selected stocks, we can now compute the mean return or the average of each of the five selected stocks and putting them in a vector called the mean vector $(μ)$\n",
    "The expected return of the assets is defined as following:\n",
    "\n",
    "# The expected return of the assets is defined as following:\n",
    "\n",
    "$μ_i=E(r_i)= ∑_{t=1}^{T}\\frac{r_t}{T}$\n",
    "\n",
    "\n",
    "where $r_t$ is the return in period t."
   ]
  },
  {
   "cell_type": "code",
   "execution_count": 8,
   "metadata": {},
   "outputs": [],
   "source": [
    "# calculation of mean\n",
    "p_BAC=np.mean(data['BAC-Return'])\n",
    "p_EBAY=np.mean(data['EBAY-Return'])\n",
    "p_NFLX=np.mean(data['NFLX-Return'])\n",
    "p_NKE=np.mean(data['NKE-Return'])\n",
    "p_AIG=np.mean(data['AIG-Return'])"
   ]
  },
  {
   "cell_type": "code",
   "execution_count": 9,
   "metadata": {},
   "outputs": [
    {
     "data": {
      "text/plain": [
       "array([0.00377071, 0.00399644, 0.01129905, 0.0046245 , 0.0050397 ])"
      ]
     },
     "execution_count": 9,
     "metadata": {},
     "output_type": "execute_result"
    }
   ],
   "source": [
    "# Mean return of Portfolio\n",
    "p = np.array([p_BAC, p_EBAY, p_NFLX, p_NKE, p_AIG])\n",
    "p"
   ]
  },
  {
   "cell_type": "markdown",
   "metadata": {},
   "source": [
    "After calculating the mean return, it’s important now to determine the sample variance and the standard deviation for each of the five stocks.\n"
   ]
  },
  {
   "cell_type": "markdown",
   "metadata": {},
   "source": [
    "# The sample variance is described by this formula:\n",
    "\n",
    "$σ^2=\\frac{1}{T} ∑_{t=1}^{T}(r_t-\\bar{r})^{2}$\n"
   ]
  },
  {
   "cell_type": "code",
   "execution_count": 10,
   "metadata": {},
   "outputs": [],
   "source": [
    "#calculation of variance\n",
    "import statistics\n",
    "var_bac=statistics.pvariance(data['BAC-Return'])\n",
    "var_ebay=statistics.pvariance(data['EBAY-Return'])\n",
    "var_nflx=statistics.pvariance(data['NFLX-Return'])\n",
    "var_nke=statistics.pvariance(data['NKE-Return'])\n",
    "var_aig=statistics.pvariance(data['AIG-Return'])"
   ]
  },
  {
   "cell_type": "code",
   "execution_count": 11,
   "metadata": {},
   "outputs": [
    {
     "data": {
      "text/plain": [
       "array([0.00519203, 0.00177501, 0.00608528, 0.00110969, 0.01168378])"
      ]
     },
     "execution_count": 11,
     "metadata": {},
     "output_type": "execute_result"
    }
   ],
   "source": [
    "v = np.array([var_bac, var_ebay, var_nflx, var_nke, var_aig])\n",
    "v"
   ]
  },
  {
   "cell_type": "markdown",
   "metadata": {},
   "source": [
    "# The standard deviation is just the square root of the variance.\n",
    "\n",
    "$σ=\\sqrt{\\frac{1}{T} ∑_{t=1}^{T}(r_t-\\bar{r} )^{2}}$\n",
    "\n",
    "The results are as following:"
   ]
  },
  {
   "cell_type": "code",
   "execution_count": 12,
   "metadata": {},
   "outputs": [],
   "source": [
    "stand_bac=statistics.pstdev(data['BAC-Return'])\n",
    "stand_ebay=statistics.pstdev(data['EBAY-Return'])\n",
    "stand_nflx=statistics.pstdev(data['NFLX-Return'])\n",
    "stand_nke=statistics.pstdev(data['NKE-Return'])\n",
    "stand_aig=statistics.pstdev(data['AIG-Return'])"
   ]
  },
  {
   "cell_type": "code",
   "execution_count": 13,
   "metadata": {},
   "outputs": [
    {
     "data": {
      "text/plain": [
       "array([0.07205572, 0.04213087, 0.07800818, 0.03331202, 0.10809153])"
      ]
     },
     "execution_count": 13,
     "metadata": {},
     "output_type": "execute_result"
    }
   ],
   "source": [
    "s = np.array([stand_bac, stand_ebay, stand_nflx, stand_nke, stand_aig])\n",
    "s"
   ]
  },
  {
   "cell_type": "markdown",
   "metadata": {},
   "source": [
    "Now we can put the expected returns of the assets for the five stocks into a vector called the mean vector and create another vector which is the ones vector which consists of only ones, that will be used for computing the weights of the portfolio."
   ]
  },
  {
   "cell_type": "markdown",
   "metadata": {},
   "source": [
    "$$\\mathbb u =\\begin{bmatrix}   0.00377\\\\\n",
    "0.00400\\\\\n",
    "0.01130\\\\ \n",
    "0.00462\\\\ \n",
    "0.00504\\end{bmatrix}$$"
   ]
  },
  {
   "cell_type": "markdown",
   "metadata": {},
   "source": [
    "$$\\mathbb 1 =\\begin{bmatrix}   1\\\\\n",
    "1\\\\\n",
    "1\\\\ \n",
    "1\\\\ \n",
    "1\\end{bmatrix}$$"
   ]
  },
  {
   "cell_type": "markdown",
   "metadata": {},
   "source": [
    "# Step 4"
   ]
  },
  {
   "cell_type": "markdown",
   "metadata": {},
   "source": [
    "The next step is to build a weighted covariance matrix and an inverse matrix. \n",
    "Once we are done with calculating the mean return, the simple variance and the standard deviation of each of these stocks, we can now build our covariance matrix. Variance-covariance matrix is a matrix which includes the variances and covariances between the return of a set of assets where entries on the main diagonal are the variances of the assets and those values off the diagonal represent the covariances. For assets A, B, C, D, E i.e. for 5 assets, the variance-covariance matrix would be of the form:\n"
   ]
  },
  {
   "cell_type": "markdown",
   "metadata": {},
   "source": [
    "$$variance-covariance-matrix=\\begin{bmatrix}\\\\\n",
    "ASSETS&BAC&EBAY&NFLX&NKE&AIG\\\\\n",
    "BAC&\\mathbb \\sigma_{A}^{2} &  & &&&\\\\\n",
    "EBAY&\\sigma_{AB} & \\sigma_{B}^{2} & &&&\\\\\n",
    "NFLX&\\sigma_{AC} & \\sigma_{BC} & \\sigma_{C}^{2}& &&&\\\\\n",
    "NKE&\\sigma_{AD} & \\sigma_{BD} & \\sigma_{CD}& \\sigma_{D}^{2}&\\\\\n",
    "AIG&\\sigma_{AE} & \\sigma_{BE} & \\sigma_{CE}&  \\sigma_{DE}& \\sigma_{E}^{2}&\\\\\n",
    "\\end{bmatrix}$$"
   ]
  },
  {
   "cell_type": "markdown",
   "metadata": {},
   "source": [
    "$$variance-covariance-matrix=\\begin{bmatrix} \\\\\n",
    "ASSETS&BAC&EBAY&NFLX&NKE&AIG\\\\\n",
    "BAC&0.00519 & 0.00098 & 0.00085&0.00096&0.00323\\\\\n",
    "EBAY&0.00098 & 0.00177 & 0.00065&0.00059&0.00098\\\\\n",
    "NFLX&0.00085 &  0.00065&0.00608&0.00049&0.00091\\\\\n",
    "NKE&0.00096&0.00059&0.00049&0.00111&0.00082\\\\\n",
    "AIG&0.00323&0.00098&0.00091&0.00082&0.01168&\n",
    "\\end{bmatrix}$$"
   ]
  },
  {
   "cell_type": "code",
   "execution_count": 14,
   "metadata": {},
   "outputs": [],
   "source": [
    "s_BAC=data['BAC-Return']\n",
    "s_EBAY=data['EBAY-Return']\n",
    "s_NFLX=data['NFLX-Return']\n",
    "s_NKE=data['NKE-Return']\n",
    "s_AIG=data['AIG-Return']"
   ]
  },
  {
   "cell_type": "code",
   "execution_count": 15,
   "metadata": {},
   "outputs": [],
   "source": [
    "# computer portfolio covariance matrix\n",
    "covariance = np.array([s_BAC, s_EBAY, s_NFLX,s_NKE, s_AIG])"
   ]
  },
  {
   "cell_type": "code",
   "execution_count": 16,
   "metadata": {},
   "outputs": [
    {
     "name": "stdout",
     "output_type": "stream",
     "text": [
      "[[0.00519203 0.00098077 0.00084937 0.00095951 0.00323445]\n",
      " [0.00098077 0.00177501 0.00064695 0.00059396 0.00097668]\n",
      " [0.00084937 0.00064695 0.00608528 0.00048577 0.00091058]\n",
      " [0.00095951 0.00059396 0.00048577 0.00110969 0.00081998]\n",
      " [0.00323445 0.00097668 0.00091058 0.00081998 0.01168378]]\n"
     ]
    }
   ],
   "source": [
    "Sigma= np.cov(covariance, bias =True)\n",
    "print(Sigma)"
   ]
  },
  {
   "cell_type": "markdown",
   "metadata": {},
   "source": [
    "where the values on the main diagonal are the variances which are equal to the variances obtained above for each of the stocks and the values below the variances represent the covariances between them."
   ]
  },
  {
   "cell_type": "markdown",
   "metadata": {},
   "source": [
    "Now let $H^{-1}$ be the inverse matrix of our covariance matrix, we can see that the inverse covariance matrix is:"
   ]
  },
  {
   "cell_type": "markdown",
   "metadata": {},
   "source": [
    "$$inverse-matrix=\\begin{bmatrix} \\\\\n",
    "ASSETS&BAC&EBAY&NFLX&NKE&AIG\\\\\n",
    "BAC&270.60 & -62.596 & -10.197&-153.047&-58.143\\\\\n",
    "EBAY&-62.596 & 724.31 & -41.379&-301.527&-18.832\\\\\n",
    "NFLX&-10.197 &  -41.379&174.16&-42.068&-4.3389\\\\\n",
    "NKE&-153.047&-301.527&-42.068&1224.436&-15.0797\\\\\n",
    "AIG&-58.143&-18.832&-4.3389&-15.0797&104.655&\n",
    "\\end{bmatrix}$$"
   ]
  },
  {
   "cell_type": "code",
   "execution_count": 17,
   "metadata": {},
   "outputs": [
    {
     "data": {
      "text/plain": [
       "array([[ 270.60037314,  -62.59608306,  -10.19746342, -153.04763483,\n",
       "         -58.1426301 ],\n",
       "       [ -62.59608306,  724.30501847,  -41.37877618, -301.52680714,\n",
       "         -18.83176954],\n",
       "       [ -10.19746342,  -41.37877618,  174.1610704 ,  -42.06856402,\n",
       "          -4.33891988],\n",
       "       [-153.04763483, -301.52680714,  -42.06856402, 1224.43623172,\n",
       "         -15.0796689 ],\n",
       "       [ -58.1426301 ,  -18.83176954,   -4.33891988,  -15.0796689 ,\n",
       "         104.65518992]])"
      ]
     },
     "execution_count": 17,
     "metadata": {},
     "output_type": "execute_result"
    }
   ],
   "source": [
    "#computing the inverse of matrix\n",
    "from numpy.linalg import inv\n",
    "inverse = inv(Sigma)\n",
    "inverse"
   ]
  },
  {
   "cell_type": "markdown",
   "metadata": {},
   "source": [
    "# Step 5"
   ]
  },
  {
   "cell_type": "markdown",
   "metadata": {},
   "source": [
    "In this step we will find the portfolio weight set with the lowest standard deviation.\n",
    "Once we have the variance-covariance matrix and the inverse matrix, we can now find the portfolio weight set with the lowest standard deviation. \n",
    "First, we need to assume that the weights are equal, so that we need to assign the equal weight to each of the five selected assets, in addition we know that the sum of these weights should equal to 1, so we need to make a constraint which stipulate that the weights assigned to the assets can’t exceeds 1, so that:\n",
    "\n",
    "\n",
    "$∑_{i=1}^{5}w_i=1$ \n",
    "\n",
    "$w_{BAB}=w_{EBAY}=w_{NFLX}=w_{NKE}=w_{AIG}=0.2$ and the sum is equal to 1"
   ]
  },
  {
   "cell_type": "markdown",
   "metadata": {},
   "source": [
    "# Portfolio weights"
   ]
  },
  {
   "cell_type": "code",
   "execution_count": 18,
   "metadata": {},
   "outputs": [
    {
     "data": {
      "text/plain": [
       "array([0.2, 0.2, 0.2, 0.2, 0.2])"
      ]
     },
     "execution_count": 18,
     "metadata": {},
     "output_type": "execute_result"
    }
   ],
   "source": [
    "#the sum of weights is equal to 1\n",
    "n = 5\n",
    "weights = np.array([1/n, 1/n, 1/n, 1/n, 1/n])\n",
    "weights"
   ]
  },
  {
   "cell_type": "code",
   "execution_count": 19,
   "metadata": {},
   "outputs": [
    {
     "data": {
      "text/plain": [
       "array([0.00377071, 0.00399644, 0.01129905, 0.0046245 , 0.0050397 ])"
      ]
     },
     "execution_count": 19,
     "metadata": {},
     "output_type": "execute_result"
    }
   ],
   "source": [
    "p"
   ]
  },
  {
   "cell_type": "code",
   "execution_count": 20,
   "metadata": {},
   "outputs": [
    {
     "data": {
      "text/plain": [
       "array([[0.00377071],\n",
       "       [0.00399644],\n",
       "       [0.01129905],\n",
       "       [0.0046245 ],\n",
       "       [0.0050397 ]])"
      ]
     },
     "execution_count": 20,
     "metadata": {},
     "output_type": "execute_result"
    }
   ],
   "source": [
    "reshape_return = p.reshape(5,1)\n",
    "reshape_return"
   ]
  },
  {
   "cell_type": "markdown",
   "metadata": {},
   "source": [
    "We will use the function numpy.matmul to multiply two matrices."
   ]
  },
  {
   "cell_type": "markdown",
   "metadata": {},
   "source": [
    "# Portfolio Expected Return:\n",
    "\n",
    "$E(r_{p} )=E\\left(∑_{i=1}^{N}w_{i} r_{i }\\right)$\n",
    "\n",
    "$= ∑_{i=1}^{N}E(w_{i} r_{i} )= ∑_{i=1}^{N}w_{i} E(r_{i)}$\n",
    "\n",
    "$r_{p}= \\mathbb μ{^T} \\mathbb w= \\mathbb w^{T}  \\mathbb μ$\n",
    "\n",
    "\n",
    "here we have $\\mathbb w^{T}$ as weights and $\\mathbb μ$ as $p$"
   ]
  },
  {
   "cell_type": "code",
   "execution_count": 21,
   "metadata": {},
   "outputs": [
    {
     "data": {
      "text/plain": [
       "array([0.57460781])"
      ]
     },
     "execution_count": 21,
     "metadata": {},
     "output_type": "execute_result"
    }
   ],
   "source": [
    "#portfolio expected return in %\n",
    "r_p = np.matmul(weights,reshape_return)*100\n",
    "r_p"
   ]
  },
  {
   "cell_type": "markdown",
   "metadata": {},
   "source": [
    "The expected return of the portfolio is 0.57%"
   ]
  },
  {
   "cell_type": "code",
   "execution_count": 22,
   "metadata": {},
   "outputs": [
    {
     "data": {
      "text/plain": [
       "array([[0.2],\n",
       "       [0.2],\n",
       "       [0.2],\n",
       "       [0.2],\n",
       "       [0.2]])"
      ]
     },
     "execution_count": 22,
     "metadata": {},
     "output_type": "execute_result"
    }
   ],
   "source": [
    "w = weights.reshape(5,1)\n",
    "w"
   ]
  },
  {
   "cell_type": "markdown",
   "metadata": {},
   "source": [
    "# Portfolio Variance:\n",
    "\n",
    "$Var(r_{p})= Var(∑_{i=}^{N}w_{i} r_{i})$\n",
    "\n",
    "\n",
    "$= ∑_{i=1}^{N}∑_{j=1}^{N}Cov (w_{i} r_{i},w_{j} r_{j} )$\n",
    "\n",
    "\n",
    "$= ∑_{i=1}^{N}∑_{j=1}^{N}w_{i}  w_{j} \\sigma_{i,j } $\n",
    "\n",
    "\n",
    "$\\sigma_p^{2}= \\mathbb w^{T} H \\mathbb  w$\n"
   ]
  },
  {
   "cell_type": "markdown",
   "metadata": {},
   "source": [
    "we have weights as $\\mathbb w^{T}$, $\\mathbb w$ as $w$ and Sigma as $H$."
   ]
  },
  {
   "cell_type": "code",
   "execution_count": 23,
   "metadata": {},
   "outputs": [
    {
     "data": {
      "text/plain": [
       "array([0.00224323, 0.00099467, 0.00179559, 0.00079378, 0.0035251 ])"
      ]
     },
     "execution_count": 23,
     "metadata": {},
     "output_type": "execute_result"
    }
   ],
   "source": [
    "var=np.matmul(weights,Sigma)\n",
    "var"
   ]
  },
  {
   "cell_type": "code",
   "execution_count": 24,
   "metadata": {},
   "outputs": [
    {
     "data": {
      "text/plain": [
       "array([0.00187047])"
      ]
     },
     "execution_count": 24,
     "metadata": {},
     "output_type": "execute_result"
    }
   ],
   "source": [
    "variance = np.matmul(var,w)\n",
    "variance"
   ]
  },
  {
   "cell_type": "markdown",
   "metadata": {},
   "source": [
    "# Portfolio standard deviation \n",
    "\n",
    "$SD_{p}= \\sigma_{p}= \\sqrt{\\mathbb w^{T} H \\mathbb w }$\n"
   ]
  },
  {
   "cell_type": "code",
   "execution_count": 25,
   "metadata": {},
   "outputs": [
    {
     "data": {
      "text/plain": [
       "0.043248975508847105"
      ]
     },
     "execution_count": 25,
     "metadata": {},
     "output_type": "execute_result"
    }
   ],
   "source": [
    "stdev =math.sqrt(variance)\n",
    "stdev"
   ]
  },
  {
   "cell_type": "markdown",
   "metadata": {},
   "source": [
    "# Sharpe Ratio"
   ]
  },
  {
   "cell_type": "code",
   "execution_count": 26,
   "metadata": {},
   "outputs": [
    {
     "data": {
      "text/plain": [
       "array([13.28604437])"
      ]
     },
     "execution_count": 26,
     "metadata": {},
     "output_type": "execute_result"
    }
   ],
   "source": [
    "sharp_ratio = (r_p/stdev)\n",
    "sharp_ratio"
   ]
  },
  {
   "cell_type": "markdown",
   "metadata": {},
   "source": [
    "The sharp ratio is 0.13286 or 13.286%."
   ]
  },
  {
   "cell_type": "markdown",
   "metadata": {},
   "source": [
    "Now, we will find the weights of the minimum variance portfolio by minimizing the standard deviation so that we obtain the weights for the five assets which gives the lowest standard deviation. The lowest satndard deviation means the lowest risk for the portfolio. The values for portfolio return, portfolio variance and portfolio standard deviation will automatically change after that, the result is illustrated in the following table:"
   ]
  },
  {
   "cell_type": "markdown",
   "metadata": {},
   "source": [
    "# Weight of minimum variance portfolio"
   ]
  },
  {
   "cell_type": "markdown",
   "metadata": {},
   "source": [
    "The weights of the minimum variance portfolio $\\mathbb w_{min}$ are given by: \n",
    "\n",
    "$\\mathbb w_{min}^{T}=\\frac{\\mathbb1^T H^{-1}}{\\mathbb1^{T} H^{-1}\\mathbb1 }$\n",
    "\n",
    "where $H$ is the variance-covariance matrix and $H^{-1}$ is the inverse matrix,\n",
    "\n",
    "$\\mathbb1$ is a vector consists of only ones and $\\mathbb1^{T}$ is the transpose of this vector.\n",
    "\n",
    "Before the optimization of the variance portfolio, we need to calculate the portfolio return, variance and standard deviation for the assigned equally weights.\n"
   ]
  },
  {
   "cell_type": "code",
   "execution_count": 27,
   "metadata": {},
   "outputs": [
    {
     "data": {
      "text/plain": [
       "array([1., 1., 1., 1., 1.])"
      ]
     },
     "execution_count": 27,
     "metadata": {},
     "output_type": "execute_result"
    }
   ],
   "source": [
    "# the weights of the minimum variance portfolio\n",
    "one = np.ones(n)\n",
    "one"
   ]
  },
  {
   "cell_type": "code",
   "execution_count": 28,
   "metadata": {},
   "outputs": [
    {
     "data": {
      "text/plain": [
       "array([[1.],\n",
       "       [1.],\n",
       "       [1.],\n",
       "       [1.],\n",
       "       [1.]])"
      ]
     },
     "execution_count": 28,
     "metadata": {},
     "output_type": "execute_result"
    }
   ],
   "source": [
    "one_col=one.reshape(5,1)\n",
    "one_col"
   ]
  },
  {
   "cell_type": "code",
   "execution_count": 29,
   "metadata": {},
   "outputs": [
    {
     "data": {
      "text/plain": [
       "array([[-13.38343826],\n",
       "       [299.97158256],\n",
       "       [ 76.1773469 ],\n",
       "       [712.71355683],\n",
       "       [  8.2622015 ]])"
      ]
     },
     "execution_count": 29,
     "metadata": {},
     "output_type": "execute_result"
    }
   ],
   "source": [
    "w_1 = np.matmul(inverse,one_col)\n",
    "w_1"
   ]
  },
  {
   "cell_type": "code",
   "execution_count": 30,
   "metadata": {},
   "outputs": [
    {
     "data": {
      "text/plain": [
       "array([1083.74124953])"
      ]
     },
     "execution_count": 30,
     "metadata": {},
     "output_type": "execute_result"
    }
   ],
   "source": [
    "w_2 =np.matmul(one,w_1)\n",
    "w_2"
   ]
  },
  {
   "cell_type": "code",
   "execution_count": 31,
   "metadata": {},
   "outputs": [
    {
     "data": {
      "text/plain": [
       "array([[-1.2349293 ],\n",
       "       [27.67926225],\n",
       "       [ 7.02910837],\n",
       "       [65.76418099],\n",
       "       [ 0.76237769]])"
      ]
     },
     "execution_count": 31,
     "metadata": {},
     "output_type": "execute_result"
    }
   ],
   "source": [
    "weights_min_var = (w_1/w_2)*100\n",
    "weights_min_var"
   ]
  },
  {
   "cell_type": "markdown",
   "metadata": {},
   "source": [
    "We can see above that we have obtained negative weights for the first stock (BAC) because we allowed short selling. Permitting short sales removes the non-negativity on the weights of the assets and since there was no constraint about that we obtained negative values in weights, the only constraint we made was that the sum of the weights should not exceeds 1."
   ]
  },
  {
   "cell_type": "markdown",
   "metadata": {},
   "source": [
    "# Expected Return of minimum variance portfolio"
   ]
  },
  {
   "cell_type": "markdown",
   "metadata": {},
   "source": [
    "$E(r_{MVP}) =\\frac{\\mathbb1 H^{-1}}{\\mathbb1 H^{-1}\\mathbb1 }$"
   ]
  },
  {
   "cell_type": "code",
   "execution_count": 32,
   "metadata": {},
   "outputs": [
    {
     "data": {
      "text/plain": [
       "array([[0.4933527]])"
      ]
     },
     "execution_count": 32,
     "metadata": {},
     "output_type": "execute_result"
    }
   ],
   "source": [
    "#portfolio expected return in %\n",
    "w_m_v=weights_min_var.reshape(1,5)\n",
    "r_m_v_p = np.matmul(w_m_v,reshape_return)\n",
    "r_m_v_p"
   ]
  },
  {
   "cell_type": "markdown",
   "metadata": {},
   "source": [
    "The expected return of minimum variance portfolio is 0.49%"
   ]
  },
  {
   "cell_type": "markdown",
   "metadata": {},
   "source": [
    "# The minimum variance calculation"
   ]
  },
  {
   "cell_type": "markdown",
   "metadata": {},
   "source": [
    "$\\sigma_p^{2}= \\frac{\\mathbb1}{\\mathbb1 H^{-1}\\mathbb1 }$"
   ]
  },
  {
   "cell_type": "code",
   "execution_count": 33,
   "metadata": {},
   "outputs": [
    {
     "data": {
      "text/plain": [
       "array([[-13.38343826],\n",
       "       [299.97158256],\n",
       "       [ 76.1773469 ],\n",
       "       [712.71355683],\n",
       "       [  8.2622015 ]])"
      ]
     },
     "execution_count": 33,
     "metadata": {},
     "output_type": "execute_result"
    }
   ],
   "source": [
    "v_1 = np.matmul(inverse,one_col)\n",
    "v_1\n"
   ]
  },
  {
   "cell_type": "code",
   "execution_count": 34,
   "metadata": {},
   "outputs": [
    {
     "data": {
      "text/plain": [
       "array([1083.74124953])"
      ]
     },
     "execution_count": 34,
     "metadata": {},
     "output_type": "execute_result"
    }
   ],
   "source": [
    "v_2 = np.matmul(one,v_1)\n",
    "v_2"
   ]
  },
  {
   "cell_type": "code",
   "execution_count": 35,
   "metadata": {},
   "outputs": [
    {
     "data": {
      "text/plain": [
       "array([[0.00092273],\n",
       "       [0.00092273],\n",
       "       [0.00092273],\n",
       "       [0.00092273],\n",
       "       [0.00092273]])"
      ]
     },
     "execution_count": 35,
     "metadata": {},
     "output_type": "execute_result"
    }
   ],
   "source": [
    "var_m_v_p =one_col/v_2\n",
    "var_m_v_p"
   ]
  },
  {
   "cell_type": "markdown",
   "metadata": {},
   "source": [
    "The variance is 0.00092."
   ]
  },
  {
   "cell_type": "markdown",
   "metadata": {},
   "source": [
    "# The standard deviation of minimum variance portfolio"
   ]
  },
  {
   "cell_type": "code",
   "execution_count": 36,
   "metadata": {},
   "outputs": [
    {
     "data": {
      "text/plain": [
       "0.030376471157789214"
      ]
     },
     "execution_count": 36,
     "metadata": {},
     "output_type": "execute_result"
    }
   ],
   "source": [
    "stdev_m_v_p =math.sqrt(0.00092273)\n",
    "stdev_m_v_p"
   ]
  },
  {
   "cell_type": "markdown",
   "metadata": {},
   "source": [
    "The variance is 0.03038."
   ]
  },
  {
   "cell_type": "markdown",
   "metadata": {},
   "source": [
    "# Sharp Ratio of minimum variance portfolio"
   ]
  },
  {
   "cell_type": "code",
   "execution_count": 37,
   "metadata": {},
   "outputs": [
    {
     "data": {
      "text/plain": [
       "array([[16.24127747]])"
      ]
     },
     "execution_count": 37,
     "metadata": {},
     "output_type": "execute_result"
    }
   ],
   "source": [
    "sharp_ratio_m_v_p = (r_m_v_p/stdev_m_v_p)\n",
    "sharp_ratio_m_v_p"
   ]
  },
  {
   "cell_type": "markdown",
   "metadata": {},
   "source": [
    "The sharp ration is 16.24%."
   ]
  },
  {
   "cell_type": "markdown",
   "metadata": {},
   "source": [
    "\n",
    "\n",
    "\n",
    "Our next step is to compute the weights of the maximum drift portfolio or the weights of the maximum sharp ratio $ \\mathbb w_{max}$, which is defined as \n"
   ]
  },
  {
   "cell_type": "markdown",
   "metadata": {},
   "source": [
    "# Weights of the maximum drift portfolio"
   ]
  },
  {
   "cell_type": "markdown",
   "metadata": {},
   "source": [
    "$\\mathbb w_{max}^{T}={\\frac {\\mathbb μ^{T} H^{-1}}{\\mathbb μ^{T} H^{-1} \\mathbb 1}}$"
   ]
  },
  {
   "cell_type": "code",
   "execution_count": 38,
   "metadata": {},
   "outputs": [
    {
     "data": {
      "text/plain": [
       "array([-0.34581817,  0.7017487 ,  1.54762212,  3.32894379,  0.11417024])"
      ]
     },
     "execution_count": 38,
     "metadata": {},
     "output_type": "execute_result"
    }
   ],
   "source": [
    "w_max_1 = np.matmul(p,inverse)\n",
    "w_max_1"
   ]
  },
  {
   "cell_type": "code",
   "execution_count": 39,
   "metadata": {},
   "outputs": [],
   "source": [
    "w_max_2 = np.matmul(w_max_1, one_col)"
   ]
  },
  {
   "cell_type": "code",
   "execution_count": 40,
   "metadata": {},
   "outputs": [
    {
     "data": {
      "text/plain": [
       "array([-6.46792091, 13.12497572, 28.94555086, 62.26204079,  2.13535354])"
      ]
     },
     "execution_count": 40,
     "metadata": {},
     "output_type": "execute_result"
    }
   ],
   "source": [
    "weights_max =(w_max_1/w_max_2)*100\n",
    "weights_max"
   ]
  },
  {
   "cell_type": "markdown",
   "metadata": {},
   "source": [
    "The weights are given in % and negative sign means that the short-selling is allowed."
   ]
  },
  {
   "cell_type": "markdown",
   "metadata": {},
   "source": [
    "$\\mathbb w_{max}^{T}=\\sqrt{\\frac {\\mathbbμ^{T} H^{-1}}{\\mathbb μ^{T} H^{-1} \\mathbb 1}}$\n",
    "\n",
    "to do that we need to calculate the sharp ratio or the slope and then we will obtain the weights of the maximum drift portfolio by maximizing the sharp ratio.\n",
    "\n"
   ]
  },
  {
   "cell_type": "markdown",
   "metadata": {},
   "source": [
    "# Expected Return"
   ]
  },
  {
   "cell_type": "markdown",
   "metadata": {},
   "source": [
    "$E(r_{max}) = \\mathbb w^{T} \\mathbb u$\n",
    "\n",
    "$\\mathbb w^{T}$ is the weights transpose but we don't need to find transpose since our weights are already a row vector and  $\\mathbb u$ is expected return which is a column vector."
   ]
  },
  {
   "cell_type": "code",
   "execution_count": 41,
   "metadata": {},
   "outputs": [
    {
     "data": {
      "text/plain": [
       "array([0.65381402])"
      ]
     },
     "execution_count": 41,
     "metadata": {},
     "output_type": "execute_result"
    }
   ],
   "source": [
    "r_max = np.matmul(weights_max,reshape_return)\n",
    "r_max"
   ]
  },
  {
   "cell_type": "markdown",
   "metadata": {},
   "source": [
    "The expected return is 0.65%."
   ]
  },
  {
   "cell_type": "markdown",
   "metadata": {},
   "source": [
    "# Varinace"
   ]
  },
  {
   "cell_type": "markdown",
   "metadata": {},
   "source": [
    "$\\sigma_{max}^{2}= \\mathbb w^{T} H\\mathbb w$"
   ]
  },
  {
   "cell_type": "code",
   "execution_count": 42,
   "metadata": {},
   "outputs": [
    {
     "data": {
      "text/plain": [
       "array([0.07052445, 0.0747463 , 0.21132883, 0.08649315, 0.09425871])"
      ]
     },
     "execution_count": 42,
     "metadata": {},
     "output_type": "execute_result"
    }
   ],
   "source": [
    "v_max_1 = np.matmul(weights_max,Sigma)\n",
    "v_max_1"
   ]
  },
  {
   "cell_type": "code",
   "execution_count": 43,
   "metadata": {},
   "outputs": [
    {
     "data": {
      "text/plain": [
       "array([[-6.46792091],\n",
       "       [13.12497572],\n",
       "       [28.94555086],\n",
       "       [62.26204079],\n",
       "       [ 2.13535354]])"
      ]
     },
     "execution_count": 43,
     "metadata": {},
     "output_type": "execute_result"
    }
   ],
   "source": [
    "w_max =weights_max.reshape(5,1)\n",
    "w_max"
   ]
  },
  {
   "cell_type": "code",
   "execution_count": 44,
   "metadata": {},
   "outputs": [
    {
     "data": {
      "text/plain": [
       "array([12.22844182])"
      ]
     },
     "execution_count": 44,
     "metadata": {},
     "output_type": "execute_result"
    }
   ],
   "source": [
    "variance_max =np.matmul(v_max_1,w_max)\n",
    "variance_max"
   ]
  },
  {
   "cell_type": "markdown",
   "metadata": {},
   "source": [
    "The variance is 0.00122."
   ]
  },
  {
   "cell_type": "markdown",
   "metadata": {},
   "source": [
    "# Standard Deviaiton"
   ]
  },
  {
   "cell_type": "code",
   "execution_count": 45,
   "metadata": {},
   "outputs": [
    {
     "data": {
      "text/plain": [
       "0.03496918903674386"
      ]
     },
     "execution_count": 45,
     "metadata": {},
     "output_type": "execute_result"
    }
   ],
   "source": [
    "stdev_max =math.sqrt(variance_max)\n",
    "stdev_max/100"
   ]
  },
  {
   "cell_type": "markdown",
   "metadata": {},
   "source": [
    "The standard deviation is 0.03497."
   ]
  },
  {
   "cell_type": "markdown",
   "metadata": {},
   "source": [
    "# Sharp ratio of maximum drift portfolio"
   ]
  },
  {
   "cell_type": "markdown",
   "metadata": {},
   "source": [
    "$sharp-ratio= \\frac{ μ_{p}}{σ_{p}}$"
   ]
  },
  {
   "cell_type": "code",
   "execution_count": 46,
   "metadata": {},
   "outputs": [
    {
     "data": {
      "text/plain": [
       "array([0.1869686])"
      ]
     },
     "execution_count": 46,
     "metadata": {},
     "output_type": "execute_result"
    }
   ],
   "source": [
    "sharp_ratio_max = r_max/stdev_max\n",
    "sharp_ratio_max"
   ]
  },
  {
   "cell_type": "markdown",
   "metadata": {},
   "source": [
    "The sharp ratio is 18.697%."
   ]
  },
  {
   "cell_type": "markdown",
   "metadata": {},
   "source": [
    "$$\\begin{bmatrix} \\\\\n",
    "Mean&weights&weights_{min}&weights_{max}&sharp-ratio&sharp-ratio_{min}&sharp-ratio_{max}\\\\\n",
    "0.00377&0.2& -1.2349\\% &-6.47\\%&13.286\\%&16.24\\%&18.697\\%\\\\\n",
    "0.00400&0.2& 27.679\\% &13.13\\%&&\\\\\n",
    "0.01130&0.2&7.029\\%&28.95\\%&&\\\\\n",
    "0.00462&0.2&65.764\\%&62.26\\%&&\\\\\n",
    "0.00504&0.2&0.762378\\%&2.14\\%&&&\n",
    "\\end{bmatrix}$$"
   ]
  },
  {
   "cell_type": "markdown",
   "metadata": {},
   "source": [
    "# Step 6\n",
    "# Construct the portfolio with the highest sharp ratio"
   ]
  },
  {
   "cell_type": "markdown",
   "metadata": {},
   "source": [
    "Next step is to compute the optimal portfolios using the fact that the portfolios from the minimum variance line satisfy:\n",
    "\n",
    "\n",
    "$\\mathbb w=s \\mathbb w_{min}+(1-s) \\mathbb w_{max} $         for $s∈[-2,2]$   with step 0.1\n",
    "\n",
    "\n",
    "The optimal portfolios are portfolios which give the best combinations of return and risk for an investor. It’s also known as maximum sharp portfolio or tangency portfolio which is a portfolio on the efficient frontier at the point where line drown from the point 0 is tangent to the efficient frontier. \n",
    "Computing the optimal portfolios for s between the interval [-2, 2] will give the following results\n"
   ]
  },
  {
   "cell_type": "code",
   "execution_count": 38,
   "metadata": {},
   "outputs": [
    {
     "data": {
      "text/html": [
       "<div>\n",
       "<style scoped>\n",
       "    .dataframe tbody tr th:only-of-type {\n",
       "        vertical-align: middle;\n",
       "    }\n",
       "\n",
       "    .dataframe tbody tr th {\n",
       "        vertical-align: top;\n",
       "    }\n",
       "\n",
       "    .dataframe thead th {\n",
       "        text-align: right;\n",
       "    }\n",
       "</style>\n",
       "<table border=\"1\" class=\"dataframe\">\n",
       "  <thead>\n",
       "    <tr style=\"text-align: right;\">\n",
       "      <th></th>\n",
       "      <th>S</th>\n",
       "      <th>1-S</th>\n",
       "      <th>Weights_min</th>\n",
       "      <th>Weights_max</th>\n",
       "      <th>BAC</th>\n",
       "      <th>EBAY</th>\n",
       "      <th>NFLX</th>\n",
       "      <th>NKE</th>\n",
       "      <th>AIG</th>\n",
       "      <th>Return_p</th>\n",
       "      <th>Var_p</th>\n",
       "      <th>Std_p</th>\n",
       "      <th>Sharp_Ratio</th>\n",
       "      <th>Mean_v</th>\n",
       "      <th>Std</th>\n",
       "    </tr>\n",
       "  </thead>\n",
       "  <tbody>\n",
       "    <tr>\n",
       "      <td>0</td>\n",
       "      <td>-2.0</td>\n",
       "      <td>3.0</td>\n",
       "      <td>-1.23%</td>\n",
       "      <td>-6.47%</td>\n",
       "      <td>-0.16950</td>\n",
       "      <td>-0.15970</td>\n",
       "      <td>0.72790</td>\n",
       "      <td>0.5526</td>\n",
       "      <td>0.04900</td>\n",
       "      <td>0.009747</td>\n",
       "      <td>0.003624</td>\n",
       "      <td>0.06020</td>\n",
       "      <td>0.16192</td>\n",
       "      <td>0.003771</td>\n",
       "      <td>0.072056</td>\n",
       "    </tr>\n",
       "    <tr>\n",
       "      <td>1</td>\n",
       "      <td>-1.9</td>\n",
       "      <td>2.9</td>\n",
       "      <td>27.68%</td>\n",
       "      <td>13.13%</td>\n",
       "      <td>-0.16426</td>\n",
       "      <td>-0.14515</td>\n",
       "      <td>0.70598</td>\n",
       "      <td>0.5561</td>\n",
       "      <td>0.04762</td>\n",
       "      <td>0.009587</td>\n",
       "      <td>0.003447</td>\n",
       "      <td>0.05871</td>\n",
       "      <td>0.16330</td>\n",
       "      <td>0.003996</td>\n",
       "      <td>0.042131</td>\n",
       "    </tr>\n",
       "    <tr>\n",
       "      <td>2</td>\n",
       "      <td>-1.8</td>\n",
       "      <td>2.8</td>\n",
       "      <td>7.03%</td>\n",
       "      <td>28.95%</td>\n",
       "      <td>-0.15902</td>\n",
       "      <td>-0.13060</td>\n",
       "      <td>0.68406</td>\n",
       "      <td>0.5596</td>\n",
       "      <td>0.04624</td>\n",
       "      <td>0.009426</td>\n",
       "      <td>0.003276</td>\n",
       "      <td>0.05723</td>\n",
       "      <td>0.16470</td>\n",
       "      <td>0.011299</td>\n",
       "      <td>0.078008</td>\n",
       "    </tr>\n",
       "    <tr>\n",
       "      <td>3</td>\n",
       "      <td>-1.7</td>\n",
       "      <td>2.7</td>\n",
       "      <td>65.76%</td>\n",
       "      <td>62.26%</td>\n",
       "      <td>-0.15378</td>\n",
       "      <td>-0.11605</td>\n",
       "      <td>0.66214</td>\n",
       "      <td>0.5631</td>\n",
       "      <td>0.04486</td>\n",
       "      <td>0.009266</td>\n",
       "      <td>0.003111</td>\n",
       "      <td>0.05577</td>\n",
       "      <td>0.16614</td>\n",
       "      <td>0.004625</td>\n",
       "      <td>0.033312</td>\n",
       "    </tr>\n",
       "    <tr>\n",
       "      <td>4</td>\n",
       "      <td>-1.6</td>\n",
       "      <td>2.6</td>\n",
       "      <td>0.76%</td>\n",
       "      <td>2.14%</td>\n",
       "      <td>-0.14854</td>\n",
       "      <td>-0.10150</td>\n",
       "      <td>0.64022</td>\n",
       "      <td>0.5666</td>\n",
       "      <td>0.04348</td>\n",
       "      <td>0.009106</td>\n",
       "      <td>0.002952</td>\n",
       "      <td>0.05433</td>\n",
       "      <td>0.16760</td>\n",
       "      <td>0.005040</td>\n",
       "      <td>0.108092</td>\n",
       "    </tr>\n",
       "  </tbody>\n",
       "</table>\n",
       "</div>"
      ],
      "text/plain": [
       "     S  1-S Weights_min Weights_max      BAC     EBAY     NFLX     NKE  \\\n",
       "0 -2.0  3.0      -1.23%      -6.47% -0.16950 -0.15970  0.72790  0.5526   \n",
       "1 -1.9  2.9      27.68%      13.13% -0.16426 -0.14515  0.70598  0.5561   \n",
       "2 -1.8  2.8       7.03%      28.95% -0.15902 -0.13060  0.68406  0.5596   \n",
       "3 -1.7  2.7      65.76%      62.26% -0.15378 -0.11605  0.66214  0.5631   \n",
       "4 -1.6  2.6       0.76%       2.14% -0.14854 -0.10150  0.64022  0.5666   \n",
       "\n",
       "       AIG  Return_p     Var_p    Std_p  Sharp_Ratio    Mean_v       Std  \n",
       "0  0.04900  0.009747  0.003624  0.06020      0.16192  0.003771  0.072056  \n",
       "1  0.04762  0.009587  0.003447  0.05871      0.16330  0.003996  0.042131  \n",
       "2  0.04624  0.009426  0.003276  0.05723      0.16470  0.011299  0.078008  \n",
       "3  0.04486  0.009266  0.003111  0.05577      0.16614  0.004625  0.033312  \n",
       "4  0.04348  0.009106  0.002952  0.05433      0.16760  0.005040  0.108092  "
      ]
     },
     "execution_count": 38,
     "metadata": {},
     "output_type": "execute_result"
    }
   ],
   "source": [
    "optimal = pd.read_csv('optimal portfolios.csv') \n",
    "optimal.head()"
   ]
  },
  {
   "cell_type": "markdown",
   "metadata": {},
   "source": [
    "The BAC, EBAY, NFLX, NKE and AIG is calculated using the following formula:\n",
    "\n",
    "$\\mathbb w=s \\mathbb w_{min}+(1-s) \\mathbb w_{max} $         \n",
    "\n",
    "The sharp ratio is $\\frac{Return_{p}}{Std_{p}} $\n",
    "\n",
    "The mean vector is the basically the mean that we have calculated above (p variable) and Std is standard deviation (s variable) that we have calculated in Step 3."
   ]
  },
  {
   "cell_type": "markdown",
   "metadata": {},
   "source": [
    "# Step 7\n",
    "\n",
    "# Graphing the efficient frontier"
   ]
  },
  {
   "cell_type": "markdown",
   "metadata": {},
   "source": [
    "To plot the efficient frontier in the mean-standard deviation space we need to consider the return and the risk of the portfolio over an interval, in our case we calculated s between the interval $[-2, 2]$, illustrating the standard deviation in the x-axis and the return in the y-axis, we obtain the curve of the efficient frontier.\n"
   ]
  },
  {
   "cell_type": "markdown",
   "metadata": {},
   "source": [
    "# Efficient frontier\n",
    "Efficient frontier represents a set of optimal portfolios which gives the highest return for a defined level of risk, or in other word the lowest risk for a given level of expected return. \n",
    "Efficient frontier plays an important role in investment analysis and investment risk management, it represents the lowest risk that can be achieved during a period of time for various level of returns which will help the investors make more accurate investment decision. Also, the efficient frontier consists of an infinite number of portfolios and the portfolio that an investor will chose will depend on his or her tolerance.\n",
    "All efficient portfolios are of the form:\n",
    "\n",
    "\n",
    "$\\mathbb w=s \\mathbb w_{min}+(1-s) \\mathbb w_{max} $\n",
    "\n",
    "\n",
    "Where $\\mathbb w_min$  is the market portfolio with the minimal variance and $\\mathbb w_{max}$ is the portfolio with the biggest drift, “s” is a constant to be calculated.\n"
   ]
  },
  {
   "cell_type": "code",
   "execution_count": 35,
   "metadata": {},
   "outputs": [
    {
     "data": {
      "text/plain": [
       "Text(0, 0.5, 'Expected Return')"
      ]
     },
     "execution_count": 35,
     "metadata": {},
     "output_type": "execute_result"
    },
    {
     "data": {
      "image/png": "[encoded data removed]",
      "text/plain": [
       "<Figure size 432x288 with 1 Axes>"
      ]
     },
     "metadata": {
      "needs_background": "light"
     },
     "output_type": "display_data"
    }
   ],
   "source": [
    "import matplotlib.pyplot as plt\n",
    "plt.plot(optimal.Std_p,optimal.Return_p)\n",
    "plt.scatter(optimal.Std,optimal.Mean_v, c='orange')\n",
    "plt.annotate(\"BAC\",(optimal.Std[0],optimal.Mean_v[0]))\n",
    "plt.annotate(\"EBAY\",(optimal.Std[1],optimal.Mean_v[1]))\n",
    "plt.annotate(\"NFLX\",(optimal.Std[2],optimal.Mean_v[2]))\n",
    "plt.annotate(\"NKE\",(optimal.Std[3],optimal.Mean_v[3]))\n",
    "plt.annotate(\"AIG\",(optimal.Std[4],optimal.Mean_v[4]))\n",
    "plt.title('Efficient Frontier')\n",
    "plt.xlabel('Standard Deviation')\n",
    "plt.ylabel('Expected Return')"
   ]
  },
  {
   "cell_type": "markdown",
   "metadata": {},
   "source": [
    "To plot the efficient frontier in the mean-standard deviation space we need to consider the return and the risk of the portfolio over an interval, in our case we calculated s between the interval [-2, 2], illustrating the standard deviation in the x-axis and the return in the y-axis, we obtain the curve of the efficient frontier.\n",
    "The first figure shows the efficient frontier curve with points which describe each of the stocks where these stocks should be within the efficient frontier curve.\n"
   ]
  },
  {
   "cell_type": "markdown",
   "metadata": {},
   "source": [
    "# References \n",
    "\n",
    "\n",
    "1) Myles, Gareth D. (2008).  Investment analysis. [Online]. Available at: \n",
    "https://people.exeter.ac.uk/gdmyles/Teaching/IAPM/finb1.pdf\n",
    "\n",
    "\n",
    "2) Radcliffe, Robert C. (2008). Investment: concepts, analysis and strategy. 5th ed.  Library of Congress Cataloging-in-Publication Data.\n",
    "\n",
    "\n",
    "3) publisher of financial news. (2017). Efficient Frontier, Investing Answers, [Online]. \n",
    "Available at: https://investinganswers.com\n"
   ]
  },
  {
   "cell_type": "code",
   "execution_count": null,
   "metadata": {},
   "outputs": [],
   "source": []
  }
 ],
 "metadata": {
  "kernelspec": {
   "display_name": "Python 3",
   "language": "python",
   "name": "python3"
  },
  "language_info": {
   "codemirror_mode": {
    "name": "ipython",
    "version": 3
   },
   "file_extension": ".py",
   "mimetype": "text/x-python",
   "name": "python",
   "nbconvert_exporter": "python",
   "pygments_lexer": "ipython3",
   "version": "3.7.4"
  }
 },
 "nbformat": 4,
 "nbformat_minor": 2
}
